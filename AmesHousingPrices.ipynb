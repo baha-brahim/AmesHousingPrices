{
 "cells": [
  {
   "cell_type": "markdown",
   "id": "c2bfcf32-7f27-48e9-b8f3-a6cb7bbc22d6",
   "metadata": {},
   "source": [
    "# Plan\n",
    "1. First we need to take a look at the dataset and understand it(shape, size, features, types of features, null values)\n",
    "2. Then we could do our EDA(exploratory data analysis) as boxplotting each feature to check for outliers, !! i just knew that the above is also considered EDA\n"
   ]
  },
  {
   "cell_type": "code",
   "execution_count": null,
   "id": "46f14968-42ec-47ce-8a25-4fc9786c5a48",
   "metadata": {},
   "outputs": [],
   "source": []
  }
 ],
 "metadata": {
  "kernelspec": {
   "display_name": "Python 3 (ipykernel)",
   "language": "python",
   "name": "python3"
  },
  "language_info": {
   "codemirror_mode": {
    "name": "ipython",
    "version": 3
   },
   "file_extension": ".py",
   "mimetype": "text/x-python",
   "name": "python",
   "nbconvert_exporter": "python",
   "pygments_lexer": "ipython3",
   "version": "3.13.7"
  }
 },
 "nbformat": 4,
 "nbformat_minor": 5
}
